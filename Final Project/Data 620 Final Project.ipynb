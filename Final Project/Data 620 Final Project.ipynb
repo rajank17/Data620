{
 "cells": [
  {
   "cell_type": "markdown",
   "metadata": {},
   "source": [
    "# DATA 620 Final Project\n",
    "    Krishna Rajan"
   ]
  },
  {
   "cell_type": "markdown",
   "metadata": {},
   "source": [
    "Twitter Data Pull\n",
    "The COVID19 has struck fear into the heart of the world, Every country in the world has had to endure this pandemic and has brought life to a stand still. Millions of people have been bitten by the COVID bug and 100's of thousands of people have been killed by the bug while bringing economies of developed countries to its knees causing economic hardship to millions of people worldwide, the world will never be the same again. \n",
    "This project is dedicated to all thoses who have been directly and indirectly effected by this pandemic.\n",
    "This project tries to analyse the sentiments around the COVID pandemic\n",
    "The purpose of this file is to retrieve data from Twitter since 03/01/2020 with the hashtags #COVID-19 OR #COVID19. The data retrieval specified 1000 tweets;The returned tweets were saved in CSV format, which will be used as input for further analysis."
   ]
  },
  {
   "cell_type": "code",
   "execution_count": 17,
   "metadata": {},
   "outputs": [],
   "source": [
    "import tweepy as tw\n",
    "import pandas as pd"
   ]
  },
  {
   "cell_type": "code",
   "execution_count": 18,
   "metadata": {},
   "outputs": [],
   "source": [
    "consumer_key= 'mWn9kmbPRFag1m5nPBGOEkdad'\n",
    "consumer_secret= 'umYS4Z0LrcT6XQKA12TVQVgAp20d5nLzC645mx5m7pyOyoGgdZ'\n",
    "access_token= '51183723-gbMej708t35IrfLDK049ccSEQBDChYb9atgll4GlW'\n",
    "access_token_secret= '28dwevocLTiqTLZmXUsMALOOZKTJpsUYaVY93zmj5DlK6'"
   ]
  },
  {
   "cell_type": "code",
   "execution_count": 19,
   "metadata": {},
   "outputs": [],
   "source": [
    "auth = tw.OAuthHandler(consumer_key, consumer_secret)\n",
    "auth.set_access_token(access_token, access_token_secret)\n",
    "api = tw.API(auth, wait_on_rate_limit=True)"
   ]
  },
  {
   "cell_type": "code",
   "execution_count": 20,
   "metadata": {},
   "outputs": [
    {
     "data": {
      "text/plain": [
       "'COVID19 OR #COVID-19 -filter:retweets'"
      ]
     },
     "execution_count": 20,
     "metadata": {},
     "output_type": "execute_result"
    }
   ],
   "source": [
    "search_words = \"COVID19 OR #COVID-19\" + \" -filter:retweets\"\n",
    "date_since = \"2020-03-01\"\n",
    "search_words"
   ]
  },
  {
   "cell_type": "code",
   "execution_count": 21,
   "metadata": {},
   "outputs": [],
   "source": [
    "#Returns tweepy.cursor.ItemIterator object\n",
    "tweets = tw.Cursor(api.search,\n",
    "              q=search_words,\n",
    "              lang=\"en\",\n",
    "              since=date_since).items(1000)"
   ]
  },
  {
   "cell_type": "code",
   "execution_count": 22,
   "metadata": {},
   "outputs": [
    {
     "data": {
      "text/html": [
       "<div>\n",
       "<style scoped>\n",
       "    .dataframe tbody tr th:only-of-type {\n",
       "        vertical-align: middle;\n",
       "    }\n",
       "\n",
       "    .dataframe tbody tr th {\n",
       "        vertical-align: top;\n",
       "    }\n",
       "\n",
       "    .dataframe thead th {\n",
       "        text-align: right;\n",
       "    }\n",
       "</style>\n",
       "<table border=\"1\" class=\"dataframe\">\n",
       "  <thead>\n",
       "    <tr style=\"text-align: right;\">\n",
       "      <th></th>\n",
       "      <th>tweet_id</th>\n",
       "      <th>created_at</th>\n",
       "      <th>user</th>\n",
       "      <th>location</th>\n",
       "      <th>text</th>\n",
       "    </tr>\n",
       "  </thead>\n",
       "  <tbody>\n",
       "    <tr>\n",
       "      <th>0</th>\n",
       "      <td>'1263613281924595712</td>\n",
       "      <td>2020-05-21 23:30:57</td>\n",
       "      <td>ToplessVegas</td>\n",
       "      <td>Las Vegas</td>\n",
       "      <td>@chrislhayes Cuomo, Murphy, Walz, Whitmer, and...</td>\n",
       "    </tr>\n",
       "    <tr>\n",
       "      <th>1</th>\n",
       "      <td>'1263613280381263872</td>\n",
       "      <td>2020-05-21 23:30:57</td>\n",
       "      <td>Adwoaadubianews</td>\n",
       "      <td>Ghana</td>\n",
       "      <td>Meet the 95-year-old veteran walking 14 miles ...</td>\n",
       "    </tr>\n",
       "    <tr>\n",
       "      <th>2</th>\n",
       "      <td>'1263613280242683904</td>\n",
       "      <td>2020-05-21 23:30:57</td>\n",
       "      <td>roselarosillo</td>\n",
       "      <td>Baja California, México</td>\n",
       "      <td>#COVID19 da mucha sed https://t.co/C3ogGuBG1L</td>\n",
       "    </tr>\n",
       "    <tr>\n",
       "      <th>3</th>\n",
       "      <td>'1263613270574989312</td>\n",
       "      <td>2020-05-21 23:30:55</td>\n",
       "      <td>GreenCleanLV</td>\n",
       "      <td>Las Vegas, Nevada</td>\n",
       "      <td>https://t.co/18dsvdpAZf Architects design COVI...</td>\n",
       "    </tr>\n",
       "    <tr>\n",
       "      <th>4</th>\n",
       "      <td>'1263613269086011393</td>\n",
       "      <td>2020-05-21 23:30:54</td>\n",
       "      <td>RajaNomanjamwal</td>\n",
       "      <td>Jammu, Jammu And Kashmir</td>\n",
       "      <td>We are the only generation in human history to...</td>\n",
       "    </tr>\n",
       "  </tbody>\n",
       "</table>\n",
       "</div>"
      ],
      "text/plain": [
       "               tweet_id          created_at             user  \\\n",
       "0  '1263613281924595712 2020-05-21 23:30:57     ToplessVegas   \n",
       "1  '1263613280381263872 2020-05-21 23:30:57  Adwoaadubianews   \n",
       "2  '1263613280242683904 2020-05-21 23:30:57    roselarosillo   \n",
       "3  '1263613270574989312 2020-05-21 23:30:55     GreenCleanLV   \n",
       "4  '1263613269086011393 2020-05-21 23:30:54  RajaNomanjamwal   \n",
       "\n",
       "                   location                                               text  \n",
       "0                 Las Vegas  @chrislhayes Cuomo, Murphy, Walz, Whitmer, and...  \n",
       "1                     Ghana  Meet the 95-year-old veteran walking 14 miles ...  \n",
       "2   Baja California, México      #COVID19 da mucha sed https://t.co/C3ogGuBG1L  \n",
       "3         Las Vegas, Nevada  https://t.co/18dsvdpAZf Architects design COVI...  \n",
       "4  Jammu, Jammu And Kashmir  We are the only generation in human history to...  "
      ]
     },
     "execution_count": 22,
     "metadata": {},
     "output_type": "execute_result"
    }
   ],
   "source": [
    "tweet_data = [[ \"'\" + str(tweet.id), tweet.created_at, tweet.user.screen_name, tweet.user.location, tweet.text] for tweet in tweets]\n",
    "\n",
    "tweet_df = pd.DataFrame(data=tweet_data, \n",
    "                    columns=['tweet_id', 'created_at', 'user', \"location\", \"text\"])\n",
    "tweet_df.head()"
   ]
  },
  {
   "cell_type": "code",
   "execution_count": 23,
   "metadata": {},
   "outputs": [
    {
     "data": {
      "text/plain": [
       "(1000, 5)"
      ]
     },
     "execution_count": 23,
     "metadata": {},
     "output_type": "execute_result"
    }
   ],
   "source": [
    "tweet_df.shape"
   ]
  },
  {
   "cell_type": "code",
   "execution_count": 24,
   "metadata": {},
   "outputs": [],
   "source": [
    "tweet_df.to_csv('COVID19_Tweets.csv')"
   ]
  },
  {
   "cell_type": "code",
   "execution_count": null,
   "metadata": {},
   "outputs": [],
   "source": []
  }
 ],
 "metadata": {
  "kernelspec": {
   "display_name": "Python 3",
   "language": "python",
   "name": "python3"
  },
  "language_info": {
   "codemirror_mode": {
    "name": "ipython",
    "version": 3
   },
   "file_extension": ".py",
   "mimetype": "text/x-python",
   "name": "python",
   "nbconvert_exporter": "python",
   "pygments_lexer": "ipython3",
   "version": "3.6.10"
  }
 },
 "nbformat": 4,
 "nbformat_minor": 4
}
